{
 "cells": [
  {
   "cell_type": "code",
   "execution_count": 9,
   "metadata": {},
   "outputs": [
    {
     "name": "stdout",
     "output_type": "stream",
     "text": [
      "Hasil  10 + 2 =  12\n",
      "Hasil  10 - 2 =  8\n",
      "Hasil  10 * 2 =  20\n",
      "Hasil  10 / 2 =  5.0\n",
      "Hasil  10 % 2 =  0\n",
      "Hasil  10 ** 2 =  100\n"
     ]
    }
   ],
   "source": [
    "a = 10 \n",
    "b = 2\n",
    "\n",
    "#operator tambah\n",
    "c = a + b\n",
    "print(\"Hasil \",a,\"+\",b,\"= \",c)\n",
    "\n",
    "#operator kurang\n",
    "c = a - b\n",
    "print(\"Hasil \",a,\"-\",b,\"= \",c)\n",
    "\n",
    "#operator kali\n",
    "c = a * b\n",
    "print(\"Hasil \",a,\"*\",b,\"= \",c)\n",
    "\n",
    "#operator bagi\n",
    "c = a / b\n",
    "print(\"Hasil \",a,\"/\",b,\"= \",c)\n",
    "\n",
    "#operator modulo\n",
    "c = a % b\n",
    "print(\"Hasil \",a,\"%\",b,\"= \",c)\n",
    "\n",
    "#operator pangkat\n",
    "c = a ** b\n",
    "print(\"Hasil \",a,\"**\",b,\"= \",c)"
   ]
  },
  {
   "cell_type": "code",
   "execution_count": 14,
   "metadata": {},
   "outputs": [
    {
     "name": "stdout",
     "output_type": "stream",
     "text": [
      "12\n",
      "9\n",
      "90\n",
      "22.5\n",
      "506.25\n"
     ]
    }
   ],
   "source": [
    "a=10\n",
    "\n",
    "a +=2\n",
    "#a = 2+10\n",
    "print(a)\n",
    "\n",
    "a -=3\n",
    "#a = 12 - 3\n",
    "print(a)\n",
    "\n",
    "a *=10\n",
    "#a = 9*10\n",
    "print(a)\n",
    "\n",
    "a /=4\n",
    "#a = 90/4\n",
    "print(a)\n",
    "\n",
    "a **=2\n",
    "#a = 22.5 ** 2\n",
    "print(a)"
   ]
  },
  {
   "cell_type": "code",
   "execution_count": 21,
   "metadata": {},
   "outputs": [
    {
     "name": "stdout",
     "output_type": "stream",
     "text": [
      "Apakah 9 == 5 : False \n",
      "Apakah 9 > 5 : True \n"
     ]
    }
   ],
   "source": [
    "a = 9\n",
    "b = 5\n",
    "c = a == b\n",
    "print(\"Apakah %d == %d : %r \" %(a,b,c))\n",
    "\n",
    "c = a > b\n",
    "print(\"Apakah %d > %d : %r \" %(a,b,c))\n",
    "\n",
    "c = a < b\n",
    "print(\"Apakah %d == %d : %r \" %(a,b,c))\n",
    "\n",
    "c = a >= b\n",
    "print(\"Apakah %d == %d : %r \" %(a,b,c))\n",
    "\n",
    "c = a <= b\n",
    "print(\"Apakah %d == %d : %r \" %(a,b,c))"
   ]
  },
  {
   "cell_type": "code",
   "execution_count": null,
   "metadata": {},
   "outputs": [],
   "source": []
  }
 ],
 "metadata": {
  "kernelspec": {
   "display_name": "Python 3",
   "language": "python",
   "name": "python3"
  },
  "language_info": {
   "codemirror_mode": {
    "name": "ipython",
    "version": 3
   },
   "file_extension": ".py",
   "mimetype": "text/x-python",
   "name": "python",
   "nbconvert_exporter": "python",
   "pygments_lexer": "ipython3",
   "version": "3.8.5"
  }
 },
 "nbformat": 4,
 "nbformat_minor": 4
}

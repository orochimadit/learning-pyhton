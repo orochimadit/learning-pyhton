{
 "cells": [
  {
   "cell_type": "code",
   "execution_count": 1,
   "metadata": {},
   "outputs": [
    {
     "name": "stdout",
     "output_type": "stream",
     "text": [
      "java\n"
     ]
    }
   ],
   "source": [
    "#tuple\n",
    "nama = ('c++','C#','java','python','vb.net')\n",
    "\n",
    "#akses\n",
    "print (nama[2])"
   ]
  },
  {
   "cell_type": "code",
   "execution_count": 5,
   "metadata": {},
   "outputs": [
    {
     "name": "stdout",
     "output_type": "stream",
     "text": [
      "('c++',)\n"
     ]
    }
   ],
   "source": [
    "print(nama[0:1])"
   ]
  },
  {
   "cell_type": "code",
   "execution_count": 7,
   "metadata": {},
   "outputs": [
    {
     "name": "stdout",
     "output_type": "stream",
     "text": [
      "Jumah hari : 7 \n"
     ]
    }
   ],
   "source": [
    "hari = ('Senin','Selasa','Rabu','Kamis','Jumat','Sabtu','Minggu')\n",
    "\n",
    "print (\"Jumah hari : %d \" %len(hari))"
   ]
  },
  {
   "cell_type": "code",
   "execution_count": 11,
   "metadata": {},
   "outputs": [
    {
     "name": "stdout",
     "output_type": "stream",
     "text": [
      "python\n"
     ]
    }
   ],
   "source": [
    "tuple1 = \"aku\",\"belajar\",\"python\"\n",
    "tuple2 = \"selama\",1,\"semester\"\n",
    "tuple3 = (tuple1,tuple2)#nested tuple\n",
    "tuple3\n",
    "print (tuple3[0][2])"
   ]
  },
  {
   "cell_type": "code",
   "execution_count": 12,
   "metadata": {},
   "outputs": [
    {
     "data": {
      "text/plain": [
       "([1, 2, 3], {123, 'Petani Kode', 'nama', 'rank'}, True)"
      ]
     },
     "execution_count": 12,
     "metadata": {},
     "output_type": "execute_result"
    }
   ],
   "source": [
    "t = ([1,2,3],{'nama','Petani Kode','rank',123},True)\n",
    "t"
   ]
  },
  {
   "cell_type": "code",
   "execution_count": 13,
   "metadata": {},
   "outputs": [
    {
     "name": "stdout",
     "output_type": "stream",
     "text": [
      "111\n"
     ]
    }
   ],
   "source": [
    "web = 111, \"STMIK PONTIANAK\",'https://stmikpontianak.ac.id'\n",
    "\n",
    "#unpacking \n",
    "id_web ,nama,url = web\n",
    "\n",
    "print (id_web)\n",
    "print (nama)\n",
    "print (url)"
   ]
  },
  {
   "cell_type": "code",
   "execution_count": null,
   "metadata": {},
   "outputs": [],
   "source": []
  }
 ],
 "metadata": {
  "kernelspec": {
   "display_name": "Python 3",
   "language": "python",
   "name": "python3"
  },
  "language_info": {
   "codemirror_mode": {
    "name": "ipython",
    "version": 3
   },
   "file_extension": ".py",
   "mimetype": "text/x-python",
   "name": "python",
   "nbconvert_exporter": "python",
   "pygments_lexer": "ipython3",
   "version": "3.8.5"
  }
 },
 "nbformat": 4,
 "nbformat_minor": 4
}

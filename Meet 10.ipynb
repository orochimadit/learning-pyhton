{
 "cells": [
  {
   "cell_type": "code",
   "execution_count": 1,
   "metadata": {},
   "outputs": [
    {
     "name": "stdout",
     "output_type": "stream",
     "text": [
      "{'dengan', 'python', 'Belajar', 'Pemograman'}\n",
      "{200, 100, 400, 300}\n",
      "{200, True, 'Python', 6.99}\n"
     ]
    }
   ],
   "source": [
    "foo = {\"Belajar\",\"Pemograman\",\"dengan\",\"python\"}\n",
    "bar = {100,200,300,400}\n",
    "baz = {\"Python\",200,6.99,True}\n",
    "print (foo)\n",
    "print (bar)\n",
    "print (baz)"
   ]
  },
  {
   "cell_type": "code",
   "execution_count": null,
   "metadata": {},
   "outputs": [],
   "source": []
  }
 ],
 "metadata": {
  "kernelspec": {
   "display_name": "Python 3",
   "language": "python",
   "name": "python3"
  },
  "language_info": {
   "codemirror_mode": {
    "name": "ipython",
    "version": 3
   },
   "file_extension": ".py",
   "mimetype": "text/x-python",
   "name": "python",
   "nbconvert_exporter": "python",
   "pygments_lexer": "ipython3",
   "version": "3.8.5"
  }
 },
 "nbformat": 4,
 "nbformat_minor": 4
}

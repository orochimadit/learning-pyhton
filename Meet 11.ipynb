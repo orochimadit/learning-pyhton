{
 "cells": [
  {
   "cell_type": "code",
   "execution_count": 1,
   "metadata": {},
   "outputs": [
    {
     "name": "stdout",
     "output_type": "stream",
     "text": [
      "{'nama': 'Mudrika', 'ipk': 3.25}\n"
     ]
    }
   ],
   "source": [
    "Mahasiswa = {\n",
    "    \"nama\": \"Mudrika\",\n",
    "    \"ipk\" :3.25\n",
    "}\n",
    "print(Mahasiswa)"
   ]
  },
  {
   "cell_type": "code",
   "execution_count": null,
   "metadata": {},
   "outputs": [],
   "source": [
    "nama_dict = {\n",
    "    \"key\" : \"value\"\n",
    "}\n",
    "nama_dict3= {\n",
    "    \"key1\":\"value\",\n",
    "    \"key2\": \"value\",\n",
    "    \"key3\": \"value\"\n",
    "}"
   ]
  }
 ],
 "metadata": {
  "kernelspec": {
   "display_name": "Python 3",
   "language": "python",
   "name": "python3"
  },
  "language_info": {
   "codemirror_mode": {
    "name": "ipython",
    "version": 3
   },
   "file_extension": ".py",
   "mimetype": "text/x-python",
   "name": "python",
   "nbconvert_exporter": "python",
   "pygments_lexer": "ipython3",
   "version": "3.8.5"
  }
 },
 "nbformat": 4,
 "nbformat_minor": 4
}

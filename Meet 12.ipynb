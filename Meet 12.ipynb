{
 "cells": [
  {
   "cell_type": "code",
   "execution_count": 4,
   "metadata": {},
   "outputs": [
    {
     "name": "stdout",
     "output_type": "stream",
     "text": [
      "Hello ini fungsi\n",
      "ini adalah fungsi\n",
      "Hello ini fungsi\n",
      "ini adalah fungsi\n",
      "Hello ini fungsi\n",
      "ini adalah fungsi\n"
     ]
    }
   ],
   "source": [
    "def nama_fungsi():\n",
    "    print(\"Hello ini fungsi\")\n",
    "    print(\"ini adalah fungsi\")\n",
    "nama_fungsi()\n",
    "nama_fungsi()\n",
    "nama_fungsi()"
   ]
  },
  {
   "cell_type": "code",
   "execution_count": 7,
   "metadata": {},
   "outputs": [
    {
     "name": "stdout",
     "output_type": "stream",
     "text": [
      "selamat pagi\n"
     ]
    }
   ],
   "source": [
    "def ucapan(hallo):\n",
    "    print(hallo)\n",
    "\n",
    "ucapan(\"selamat pagi\")"
   ]
  },
  {
   "cell_type": "code",
   "execution_count": 9,
   "metadata": {},
   "outputs": [
    {
     "name": "stdout",
     "output_type": "stream",
     "text": [
      "Luas segitiga 10.000000\n"
     ]
    }
   ],
   "source": [
    "#ini buat fungsi dengan parameter\n",
    "def luas_segitiga(alas,tinggi):\n",
    "    luas =(alas*tinggi)/2\n",
    "    print(\"Luas segitiga %f\" %luas)\n",
    "#panggil fungsi\n",
    "luas_segitiga(5,4)"
   ]
  },
  {
   "cell_type": "code",
   "execution_count": 13,
   "metadata": {},
   "outputs": [
    {
     "name": "stdout",
     "output_type": "stream",
     "text": [
      "Luas persegi: 36 \n",
      "Luas persegi : 36\n",
      "Volume persegi :216\n"
     ]
    }
   ],
   "source": [
    "def luas_persegi(sisi):\n",
    "    luas = sisi* sisi\n",
    "    return luas\n",
    "#panggil fungsi\n",
    "print(\"Luas persegi: %d \"%luas_persegi(6))\n",
    "\n",
    "def volume_persegi(sisi):\n",
    "    volume = luas_persegi(sisi)*sisi\n",
    "    return volume\n",
    "#panggil\n",
    "print(\"Luas persegi : %d\"%luas_persegi(6))\n",
    "print(\"Volume persegi :%d\" %volume_persegi(6))"
   ]
  },
  {
   "cell_type": "code",
   "execution_count": 18,
   "metadata": {},
   "outputs": [
    {
     "name": "stdout",
     "output_type": "stream",
     "text": [
      "Nama: Pemograman Berbasis Open SOurce \n",
      "Sks: 3 \n",
      "Nama : python \n",
      "SKS: 3 \n"
     ]
    }
   ],
   "source": [
    "nama = \"Pemograman Berbasis Open SOurce\"\n",
    "sks = \"3\"\n",
    "\n",
    "def matakuliah():\n",
    "    #variabel lokal\n",
    "    nama= \"python\"\n",
    "    sks = \"3\"\n",
    "    #akses variabel lokal\n",
    "    print(\"Nama : %s \"%nama)\n",
    "    print(\"SKS: %s \"%sks)\n",
    "\n",
    "#akses variabel global\n",
    "print(\"Nama: %s \"%nama)\n",
    "print(\"Sks: %s \"%sks)\n",
    "\n",
    "matakuliah()\n"
   ]
  },
  {
   "cell_type": "code",
   "execution_count": 23,
   "metadata": {},
   "outputs": [
    {
     "ename": "SyntaxError",
     "evalue": "invalid syntax (<ipython-input-23-b361bab8df87>, line 53)",
     "output_type": "error",
     "traceback": [
      "\u001b[1;36m  File \u001b[1;32m\"<ipython-input-23-b361bab8df87>\"\u001b[1;36m, line \u001b[1;32m53\u001b[0m\n\u001b[1;33m    elif menu==\"5\"\u001b[0m\n\u001b[1;37m                  ^\u001b[0m\n\u001b[1;31mSyntaxError\u001b[0m\u001b[1;31m:\u001b[0m invalid syntax\n"
     ]
    }
   ],
   "source": [
    "#variabel global\n",
    "buku=[]\n",
    "\n",
    "def show_data():\n",
    "    if len(buku)<=0:\n",
    "        print (\"Buku tidak ada\")\n",
    "    else:\n",
    "        for indeks in range(len(buku)):\n",
    "            print( \"[%d] %s \" % (indeks,buku[indeks]))\n",
    "\n",
    "def insert_data():\n",
    "    buku_baru = input(\"Judul Buku : \")\n",
    "    buku.append(buku_baru)\n",
    "\n",
    "def edit_data():\n",
    "    show_data()\n",
    "    indeks = eval(input(\"Inputkan ID Buku:\"))\n",
    "    print(len(buku))\n",
    "    \n",
    "    if(indeks > len(buku)):\n",
    "        print(\"id salah\")\n",
    "    else :\n",
    "        judul_baru = input(\"Judul Baru: \")\n",
    "        buku[indeks] = judul_baru\n",
    "def delete_data():\n",
    "    show_data\n",
    "    indeks = eval(input(\"Inputkan ID Buku:\"))\n",
    "    \n",
    "    if(indeks > len(buku)):\n",
    "        print(\"id salah\")\n",
    "    else :\n",
    "        buku.remove(buku[indeks])\n",
    "def show_menu():\n",
    "    print(\"\\n\")\n",
    "    print(\"------- MENU -------\")\n",
    "    print(\"[1] Show Data\")\n",
    "    print(\"[2] Insert Data\")\n",
    "    print(\"[3] Edit data\")\n",
    "    print(\"[4] Delete Data\")\n",
    "    print(\"[5] Exit\")\n",
    "    \n",
    "    menu = input(\"Pilih Menu > \")\n",
    "    print(\"\\n\")\n",
    "    \n",
    "    if menu == \"1\":\n",
    "        show_data()\n",
    "    elif menu == \"2\":\n",
    "        insert_data()\n",
    "    elif menu == \"3\" :\n",
    "        edit_data()\n",
    "    elif menu == \"4\":\n",
    "        delete_data()\n",
    "    elif menu==\"5\":\n",
    "        exit()\n",
    "    else: \n",
    "        print(\"Salah Pilih!\")\n",
    "\n",
    "show_menu()\n",
    "    "
   ]
  },
  {
   "cell_type": "code",
   "execution_count": null,
   "metadata": {},
   "outputs": [],
   "source": []
  }
 ],
 "metadata": {
  "kernelspec": {
   "display_name": "Python 3",
   "language": "python",
   "name": "python3"
  },
  "language_info": {
   "codemirror_mode": {
    "name": "ipython",
    "version": 3
   },
   "file_extension": ".py",
   "mimetype": "text/x-python",
   "name": "python",
   "nbconvert_exporter": "python",
   "pygments_lexer": "ipython3",
   "version": "3.8.5"
  }
 },
 "nbformat": 4,
 "nbformat_minor": 4
}

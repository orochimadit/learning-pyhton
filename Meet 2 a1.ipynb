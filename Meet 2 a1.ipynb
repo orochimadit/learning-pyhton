{
 "cells": [
  {
   "cell_type": "code",
   "execution_count": 3,
   "metadata": {},
   "outputs": [
    {
     "name": "stdout",
     "output_type": "stream",
     "text": [
      "hello\n",
      "petani kode\n",
      "selamat datang\n",
      "world\n"
     ]
    }
   ],
   "source": [
    "print (\"hello\")\n",
    "nama = 'petani kode'\n",
    "if nama == 'petani kode' :\n",
    "    print (nama)\n",
    "    print (\"selamat datang\")\n",
    "print (\"world\")"
   ]
  },
  {
   "cell_type": "code",
   "execution_count": 4,
   "metadata": {},
   "outputs": [
    {
     "name": "stdout",
     "output_type": "stream",
     "text": [
      "0.6666666666666666\n",
      "6\n"
     ]
    }
   ],
   "source": [
    "a=2\n",
    "b=3\n",
    "bagi =a/b\n",
    "kali = a*b\n",
    "print (bagi)\n",
    "print (kali)"
   ]
  },
  {
   "cell_type": "code",
   "execution_count": 5,
   "metadata": {},
   "outputs": [
    {
     "name": "stdout",
     "output_type": "stream",
     "text": [
      "0.6666666666666666\n",
      "6\n"
     ]
    }
   ],
   "source": [
    "#ini variabel a \n",
    "a=2\n",
    "#ini variabel b\n",
    "b=3\n",
    "bagi =a/b\n",
    "kali = a*b\n",
    "print (bagi)\n",
    "print (kali)"
   ]
  },
  {
   "cell_type": "code",
   "execution_count": null,
   "metadata": {},
   "outputs": [],
   "source": []
  }
 ],
 "metadata": {
  "kernelspec": {
   "display_name": "Python 3",
   "language": "python",
   "name": "python3"
  },
  "language_info": {
   "codemirror_mode": {
    "name": "ipython",
    "version": 3
   },
   "file_extension": ".py",
   "mimetype": "text/x-python",
   "name": "python",
   "nbconvert_exporter": "python",
   "pygments_lexer": "ipython3",
   "version": "3.8.5"
  }
 },
 "nbformat": 4,
 "nbformat_minor": 4
}

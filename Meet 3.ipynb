{
 "cells": [
  {
   "cell_type": "code",
   "execution_count": 14,
   "metadata": {},
   "outputs": [
    {
     "name": "stdout",
     "output_type": "stream",
     "text": [
      "budi\n",
      "34.4\n"
     ]
    },
    {
     "data": {
      "text/plain": [
       "str"
      ]
     },
     "execution_count": 14,
     "metadata": {},
     "output_type": "execute_result"
    }
   ],
   "source": [
    "nama = \"budi\"\n",
    "nomor_sepatu =34.4\n",
    "print(nama)\n",
    "print(nomor_sepatu)\n",
    "type(nama)"
   ]
  },
  {
   "cell_type": "code",
   "execution_count": 15,
   "metadata": {},
   "outputs": [
    {
     "name": "stdout",
     "output_type": "stream",
     "text": [
      "Aditya Pratama Badra\n",
      "L\n",
      "jalan raya jungkat\n",
      "        kecamatan siantan\n",
      "        kabupaten mempawah\n"
     ]
    }
   ],
   "source": [
    "nama = \"Aditya Pratama Badra\"\n",
    "jenis_kelamin = \"L\"\n",
    "alamat = \"\"\"jalan raya jungkat\n",
    "        kecamatan siantan\n",
    "        kabupaten mempawah\"\"\"\n",
    "agama = \"islam\"\n",
    "print(nama)\n",
    "print(jenis_kelamin)\n",
    "print(alamat)"
   ]
  },
  {
   "cell_type": "code",
   "execution_count": 19,
   "metadata": {
    "scrolled": false
   },
   "outputs": [
    {
     "name": "stdout",
     "output_type": "stream",
     "text": [
      "hallo\n",
      "ini adalah contoh penulisan single quoation\n",
      "===========================================\n",
      "Hari ini kamu memulai ahasa pemograman baru \n",
      "Yaitu bahasa python pemograman dasar pada mata kuliah pemograman berorientasi objek\n",
      "===================================================================================\n",
      "nama saya aditya pratama badra ,\n",
      "saya adalah programmer junior di kota pontianak\n",
      "=========================================\n"
     ]
    }
   ],
   "source": [
    "#single quation\n",
    "print ('hallo')\n",
    "print ('ini adalah contoh penulisan single quoation')\n",
    "print ('===========================================')\n",
    "#double quation\n",
    "print (\"Hari ini kamu memulai ahasa pemograman baru \")\n",
    "print (\"Yaitu bahasa python pemograman dasar pada mata kuliah pemograman berorientasi objek\")\n",
    "print (\"===================================================================================\")\n",
    "#triple quation\n",
    "print (\"\"\"nama saya aditya pratama badra ,\n",
    "saya adalah programmer junior di kota pontianak\"\"\")\n",
    "print (\"=========================================\")"
   ]
  },
  {
   "cell_type": "code",
   "execution_count": 22,
   "metadata": {},
   "outputs": [],
   "source": [
    "bergerak = True\n",
    "nyala =1\n",
    "\n",
    "\n"
   ]
  },
  {
   "cell_type": "code",
   "execution_count": 25,
   "metadata": {},
   "outputs": [
    {
     "name": "stdout",
     "output_type": "stream",
     "text": [
      "Nama :  Aditya Pratama Badra\n",
      "Alamat :  Pontianak\n",
      "Tinggi :  160\n",
      "Umur   :  25\n",
      "sudah menikah\n"
     ]
    }
   ],
   "source": [
    "#program biodata penduduk\n",
    "#buat variabel beserta nama isinya\n",
    "\n",
    "nama = \"Aditya Pratama Badra\"\n",
    "alamat = \"Pontianak\"\n",
    "umur = 25\n",
    "tinggi = 160\n",
    "menikah = True\n",
    "\n",
    "print(\"Nama : \", nama)\n",
    "print(\"Alamat : \", alamat)\n",
    "print(\"Tinggi : \", tinggi)\n",
    "print(\"Umur   : \", umur)\n",
    "\n",
    "if(menikah):\n",
    "    print(\"sudah menikah\")\n",
    "else:\n",
    "    print(\"belum menikah\")\n",
    "\n",
    "\n",
    "\n",
    "\n",
    "\n",
    "\n",
    "\n",
    "\n",
    "\n",
    "\n",
    "\n",
    "\n",
    "\n",
    "\n",
    "\n",
    "\n",
    "\n"
   ]
  },
  {
   "cell_type": "code",
   "execution_count": null,
   "metadata": {},
   "outputs": [],
   "source": []
  }
 ],
 "metadata": {
  "kernelspec": {
   "display_name": "Python 3",
   "language": "python",
   "name": "python3"
  },
  "language_info": {
   "codemirror_mode": {
    "name": "ipython",
    "version": 3
   },
   "file_extension": ".py",
   "mimetype": "text/x-python",
   "name": "python",
   "nbconvert_exporter": "python",
   "pygments_lexer": "ipython3",
   "version": "3.8.5"
  }
 },
 "nbformat": 4,
 "nbformat_minor": 4
}

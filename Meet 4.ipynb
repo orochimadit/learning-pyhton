{
 "cells": [
  {
   "cell_type": "code",
   "execution_count": 2,
   "metadata": {},
   "outputs": [
    {
     "name": "stdout",
     "output_type": "stream",
     "text": [
      "Siapa Nama Kamu tia\n",
      "Berapa Umur Kamu 23\n",
      "Hello  tia umur kamu adalah  23 tahun\n"
     ]
    }
   ],
   "source": [
    "nama = input(\"Siapa Nama Kamu \")\n",
    "umur = input(\"Berapa Umur Kamu \")\n",
    "\n",
    "#Menampilkan output\n",
    "print(\"Hello \",nama,\"umur kamu adalah \",umur,\"tahun\")"
   ]
  },
  {
   "cell_type": "code",
   "execution_count": 4,
   "metadata": {},
   "outputs": [
    {
     "name": "stdout",
     "output_type": "stream",
     "text": [
      "hello world\n",
      "mari belajar python\n"
     ]
    }
   ],
   "source": [
    "print (\"hello world\")\n",
    "print (\"mari belajar python\")"
   ]
  },
  {
   "cell_type": "code",
   "execution_count": 7,
   "metadata": {},
   "outputs": [
    {
     "name": "stdout",
     "output_type": "stream",
     "text": [
      "Hello world!\n",
      "mari  belajar python\n"
     ]
    }
   ],
   "source": [
    "nama_variabel = \"belajar python\"\n",
    "print (\"Hello world!\")\n",
    "print (\"mari \",nama_variabel)"
   ]
  },
  {
   "cell_type": "code",
   "execution_count": 8,
   "metadata": {},
   "outputs": [
    {
     "name": "stdout",
     "output_type": "stream",
     "text": [
      "Belajar python\n"
     ]
    }
   ],
   "source": [
    "bhs = \"python\"\n",
    "print(\"Belajar \"+bhs)"
   ]
  },
  {
   "cell_type": "code",
   "execution_count": 9,
   "metadata": {},
   "outputs": [
    {
     "name": "stdout",
     "output_type": "stream",
     "text": [
      "nama budi\n",
      "hello budi apa kabar \n"
     ]
    }
   ],
   "source": [
    "nama = input(\"nama \")\n",
    "print(\"hello {} apa kabar \".format(nama))"
   ]
  },
  {
   "cell_type": "code",
   "execution_count": 11,
   "metadata": {},
   "outputs": [
    {
     "name": "stdout",
     "output_type": "stream",
     "text": [
      "nama kamu joko\n",
      "nama dia tya\n",
      "joko dan tya sepertinya pasangan yang serasi \n"
     ]
    }
   ],
   "source": [
    "nama_mu = input(\"nama kamu \")\n",
    "nama_dia = input(\"nama dia \")\n",
    "print(\"{} dan {} sepertinya pasangan yang serasi \".format(nama_mu,nama_dia))"
   ]
  },
  {
   "cell_type": "code",
   "execution_count": 12,
   "metadata": {},
   "outputs": [
    {
     "name": "stdout",
     "output_type": "stream",
     "text": [
      "nama andajoko\n",
      "nama kamu adalah joko \n"
     ]
    }
   ],
   "source": [
    "nama = input(\"nama anda\")\n",
    "print(\"nama kamu adalah %s \"%nama)"
   ]
  },
  {
   "cell_type": "code",
   "execution_count": 16,
   "metadata": {},
   "outputs": [
    {
     "name": "stdout",
     "output_type": "stream",
     "text": [
      "angkat 1 4\n",
      "angkat ke 2 4\n",
      "angkat ke 3 4\n",
      "angkat ke 4 3\n",
      "angkat ke 5 3\n",
      "maka nilai rata-rata adalah  3.6\n"
     ]
    }
   ],
   "source": [
    "angka1 = float(input(\"angkat 1 \"))\n",
    "angka2 = float(input(\"angkat ke 2 \"))\n",
    "angka3 = float(input(\"angkat ke 3 \"))\n",
    "angka4 = float(input(\"angkat ke 4 \"))\n",
    "angka5 = float(input(\"angkat ke 5 \"))\n",
    "\n",
    "rata2 = (angka1+angka2+angka3+angka4+angka5)/5\n",
    "print(\"maka nilai rata-rata adalah \",rata2)"
   ]
  },
  {
   "cell_type": "code",
   "execution_count": null,
   "metadata": {},
   "outputs": [],
   "source": []
  }
 ],
 "metadata": {
  "kernelspec": {
   "display_name": "Python 3",
   "language": "python",
   "name": "python3"
  },
  "language_info": {
   "codemirror_mode": {
    "name": "ipython",
    "version": 3
   },
   "file_extension": ".py",
   "mimetype": "text/x-python",
   "name": "python",
   "nbconvert_exporter": "python",
   "pygments_lexer": "ipython3",
   "version": "3.8.5"
  }
 },
 "nbformat": 4,
 "nbformat_minor": 4
}

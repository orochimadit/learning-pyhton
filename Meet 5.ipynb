{
 "cells": [
  {
   "cell_type": "code",
   "execution_count": 9,
   "metadata": {},
   "outputs": [
    {
     "name": "stdout",
     "output_type": "stream",
     "text": [
      "Hasil  10 + 2 =  12\n",
      "Hasil  10 - 2 =  8\n",
      "Hasil  10 * 2 =  20\n",
      "Hasil  10 / 2 =  5.0\n",
      "Hasil  10 % 2 =  0\n",
      "Hasil  10 ** 2 =  100\n"
     ]
    }
   ],
   "source": [
    "a = 10 \n",
    "b = 2\n",
    "\n",
    "#operator tambah\n",
    "c = a + b\n",
    "print(\"Hasil \",a,\"+\",b,\"= \",c)\n",
    "\n",
    "#operator kurang\n",
    "c = a - b\n",
    "print(\"Hasil \",a,\"-\",b,\"= \",c)\n",
    "\n",
    "#operator kali\n",
    "c = a * b\n",
    "print(\"Hasil \",a,\"*\",b,\"= \",c)\n",
    "\n",
    "#operator bagi\n",
    "c = a / b\n",
    "print(\"Hasil \",a,\"/\",b,\"= \",c)\n",
    "\n",
    "#operator modulo\n",
    "c = a % b\n",
    "print(\"Hasil \",a,\"%\",b,\"= \",c)\n",
    "\n",
    "#operator pangkat\n",
    "c = a ** b\n",
    "print(\"Hasil \",a,\"**\",b,\"= \",c)"
   ]
  },
  {
   "cell_type": "code",
   "execution_count": 14,
   "metadata": {},
   "outputs": [
    {
     "name": "stdout",
     "output_type": "stream",
     "text": [
      "12\n",
      "9\n",
      "90\n",
      "22.5\n",
      "506.25\n"
     ]
    }
   ],
   "source": [
    "a=10\n",
    "\n",
    "a +=2\n",
    "#a = 2+10\n",
    "print(a)\n",
    "\n",
    "a -=3\n",
    "#a = 12 - 3\n",
    "print(a)\n",
    "\n",
    "a *=10\n",
    "#a = 9*10\n",
    "print(a)\n",
    "\n",
    "a /=4\n",
    "#a = 90/4\n",
    "print(a)\n",
    "\n",
    "a **=2\n",
    "#a = 22.5 ** 2\n",
    "print(a)"
   ]
  },
  {
   "cell_type": "code",
   "execution_count": 22,
   "metadata": {},
   "outputs": [
    {
     "name": "stdout",
     "output_type": "stream",
     "text": [
      "Apakah 9 == 5 : False \n",
      "Apakah 9 > 5 : True \n",
      "Apakah 9 == 5 : False \n",
      "Apakah 9 == 5 : True \n",
      "Apakah 9 == 5 : False \n",
      "Apakah 9 == 5 : True \n"
     ]
    }
   ],
   "source": [
    "a = 9\n",
    "b = 5\n",
    "c = a == b\n",
    "print(\"Apakah %d == %d : %r \" %(a,b,c))\n",
    "\n",
    "c = 9 > 5\n",
    "print(\"Apakah %d > %d : %r \" %(a,b,c))\n",
    "\n",
    "c = a < b\n",
    "print(\"Apakah %d == %d : %r \" %(a,b,c))\n",
    "\n",
    "c = a >= b\n",
    "print(\"Apakah %d == %d : %r \" %(a,b,c))\n",
    "\n",
    "c = a <= b\n",
    "print(\"Apakah %d == %d : %r \" %(a,b,c))\n",
    "\n",
    "c = a != b\n",
    "print(\"Apakah %d == %d : %r \" %(a,b,c))"
   ]
  },
  {
   "cell_type": "code",
   "execution_count": 33,
   "metadata": {},
   "outputs": [
    {
     "name": "stdout",
     "output_type": "stream",
     "text": [
      "True or False = True\n",
      "True and False = False\n",
      "not True  = False\n"
     ]
    }
   ],
   "source": [
    "a = True\n",
    "b = False\n",
    "\n",
    "#logika or\n",
    "c = a or b\n",
    "print (\"%r or %r = %r\" %(a,b,c) )\n",
    "\n",
    "#logika or\n",
    "c = a and b\n",
    "print (\"%r and %r = %r\" %(a,b,c) )\n",
    "\n",
    "#logika or\n",
    "c = not a\n",
    "print (\"not %r  = %r\" %(a,c) )"
   ]
  },
  {
   "cell_type": "code",
   "execution_count": 39,
   "metadata": {},
   "outputs": [
    {
     "name": "stdout",
     "output_type": "stream",
     "text": [
      "a & b = 12\n",
      "a | b = 61\n",
      "a ^ b = 49\n",
      "~a= -61\n",
      "a << b = 491520\n",
      "a >> b = 0\n"
     ]
    }
   ],
   "source": [
    "a = 60 \n",
    "b = 13\n",
    "#operasi and\n",
    "c= a & b \n",
    "print(\"a & b = %s\"%c)\n",
    "\n",
    "#operasi or\n",
    "c= a | b \n",
    "print(\"a | b = %s\"%c)\n",
    "\n",
    "#operasi xor\n",
    "c= a ^ b \n",
    "print(\"a ^ b = %s\"%c)\n",
    "\n",
    "c= ~a  \n",
    "print(\"~a= %s\"%c)\n",
    "\n",
    "\n",
    "#operasi shiff left\n",
    "c= a << b \n",
    "print(\"a << b = %s\"%c)\n",
    "\n",
    "#operasi shift right\n",
    "c= a >> b \n",
    "print(\"a >> b = %s\"%c)"
   ]
  },
  {
   "cell_type": "code",
   "execution_count": 50,
   "metadata": {},
   "outputs": [
    {
     "name": "stdout",
     "output_type": "stream",
     "text": [
      "benar budi\n"
     ]
    }
   ],
   "source": [
    "nama  = \"budi\"\n",
    "if nama == \"budi\" :\n",
    "    print(\"benar budi\")\n",
    "else :\n",
    "    print (\"bukan budi\")\n"
   ]
  },
  {
   "cell_type": "code",
   "execution_count": 53,
   "metadata": {},
   "outputs": [
    {
     "name": "stdout",
     "output_type": "stream",
     "text": [
      "Program menghitung persegi panjang\n",
      "masukkan panjang 7\n",
      "masukkan lebar 5\n",
      "Maka luas persegi panjang adalah  35.0\n"
     ]
    }
   ],
   "source": [
    "print(\"Program menghitung persegi panjang\")\n",
    "panjang= float(input(\"masukkan panjang \"))\n",
    "lebar  = float(input(\"masukkan lebar \"))\n",
    "luas = panjang * lebar\n",
    "print(\"Maka luas persegi panjang adalah \", luas)"
   ]
  },
  {
   "cell_type": "code",
   "execution_count": 56,
   "metadata": {},
   "outputs": [
    {
     "name": "stdout",
     "output_type": "stream",
     "text": [
      "Program menghitung luas lingkaran\n",
      "masukkan jari-jari 7\n",
      "Maka luas lingkaran adalah  153.86\n"
     ]
    }
   ],
   "source": [
    "print(\"Program menghitung luas lingkaran\")\n",
    "r= float(input(\"masukkan jari-jari \"))\n",
    "luas = 3.14 * r * r\n",
    "print(\"Maka luas lingkaran adalah \", luas)"
   ]
  },
  {
   "cell_type": "code",
   "execution_count": null,
   "metadata": {},
   "outputs": [],
   "source": []
  },
  {
   "cell_type": "code",
   "execution_count": null,
   "metadata": {},
   "outputs": [],
   "source": []
  }
 ],
 "metadata": {
  "kernelspec": {
   "display_name": "Python 3",
   "language": "python",
   "name": "python3"
  },
  "language_info": {
   "codemirror_mode": {
    "name": "ipython",
    "version": 3
   },
   "file_extension": ".py",
   "mimetype": "text/x-python",
   "name": "python",
   "nbconvert_exporter": "python",
   "pygments_lexer": "ipython3",
   "version": "3.8.5"
  }
 },
 "nbformat": 4,
 "nbformat_minor": 4
}

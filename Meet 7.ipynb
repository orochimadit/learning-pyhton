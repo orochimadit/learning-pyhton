{
 "cells": [
  {
   "cell_type": "code",
   "execution_count": 4,
   "metadata": {},
   "outputs": [
    {
     "name": "stdout",
     "output_type": "stream",
     "text": [
      "perulangan ke - 0\n",
      "perulangan ke - 1\n",
      "perulangan ke - 2\n",
      "perulangan ke - 3\n",
      "perulangan ke - 4\n",
      "perulangan ke - 5\n",
      "perulangan ke - 6\n",
      "perulangan ke - 7\n",
      "perulangan ke - 8\n",
      "perulangan ke - 9\n"
     ]
    }
   ],
   "source": [
    "ulang = 10\n",
    "for i in range(ulang):\n",
    "    print(\"perulangan ke - \"+str(i))"
   ]
  },
  {
   "cell_type": "code",
   "execution_count": 9,
   "metadata": {},
   "outputs": [
    {
     "name": "stdout",
     "output_type": "stream",
     "text": [
      "kopi\n",
      "jus\n",
      "susu\n",
      "air putih\n",
      "teh\n"
     ]
    }
   ],
   "source": [
    "item = ['kopi','jus','susu','air putih','teh']\n",
    "for isi in item:\n",
    "    print(isi)"
   ]
  },
  {
   "cell_type": "code",
   "execution_count": 11,
   "metadata": {},
   "outputs": [
    {
     "name": "stdout",
     "output_type": "stream",
     "text": [
      "1\n",
      "2\n",
      "3\n",
      "4\n",
      "5\n",
      "6\n",
      "7\n",
      "8\n",
      "9\n",
      "10\n",
      "total Perulangan 10\n"
     ]
    }
   ],
   "source": [
    "ulang=10\n",
    "hitung = 0\n",
    "while(hitung < ulang):\n",
    "    hitung+=1\n",
    "    print(hitung)\n",
    "print(\"total Perulangan \"+str(hitung))"
   ]
  },
  {
   "cell_type": "code",
   "execution_count": 13,
   "metadata": {},
   "outputs": [
    {
     "name": "stdout",
     "output_type": "stream",
     "text": [
      "ulangi lagi?  ya atau tidak sdfsd\n",
      "total Perulangan 1\n"
     ]
    }
   ],
   "source": [
    "jawab = 'ya'\n",
    "hitung = 0\n",
    "while(jawab == 'ya'):\n",
    "    hitung+=1\n",
    "    jawab = input(\"ulangi lagi?  ya atau tidak \")\n",
    "print(\"total Perulangan \"+str(hitung))"
   ]
  },
  {
   "cell_type": "code",
   "execution_count": 16,
   "metadata": {},
   "outputs": [
    {
     "name": "stdout",
     "output_type": "stream",
     "text": [
      "ulangi lagi?  ya atau tidak ya\n",
      "ulangi lagi?  ya atau tidak ya\n",
      "ulangi lagi?  ya atau tidak ya\n",
      "ulangi lagi?  ya atau tidak ya\n",
      "ulangi lagi?  ya atau tidak tidak\n",
      "total Perulangan 5\n"
     ]
    }
   ],
   "source": [
    "jawab = 'ya'\n",
    "hitung = 0\n",
    "while(True):\n",
    "    hitung+=1\n",
    "    jawab = input(\"ulangi lagi?  ya atau tidak \")\n",
    "    if jawab=='tidak':\n",
    "        break\n",
    "print(\"total Perulangan \"+str(hitung))"
   ]
  },
  {
   "cell_type": "code",
   "execution_count": null,
   "metadata": {},
   "outputs": [],
   "source": []
  }
 ],
 "metadata": {
  "kernelspec": {
   "display_name": "Python 3",
   "language": "python",
   "name": "python3"
  },
  "language_info": {
   "codemirror_mode": {
    "name": "ipython",
    "version": 3
   },
   "file_extension": ".py",
   "mimetype": "text/x-python",
   "name": "python",
   "nbconvert_exporter": "python",
   "pygments_lexer": "ipython3",
   "version": "3.8.5"
  }
 },
 "nbformat": 4,
 "nbformat_minor": 4
}

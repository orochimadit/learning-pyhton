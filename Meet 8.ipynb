{
 "cells": [
  {
   "cell_type": "code",
   "execution_count": 4,
   "metadata": {},
   "outputs": [
    {
     "name": "stdout",
     "output_type": "stream",
     "text": [
      "jeruk\n"
     ]
    }
   ],
   "source": [
    "#kita punya list nama-nama buah\n",
    "buah = [\"apel\",\"anggur\",\"mangga\",\"jeruk\"]\n",
    "\n",
    "#misal kita pengen akses angggur ?\n",
    "\n",
    "print(buah[3])"
   ]
  },
  {
   "cell_type": "code",
   "execution_count": 8,
   "metadata": {
    "scrolled": true
   },
   "outputs": [
    {
     "name": "stdout",
     "output_type": "stream",
     "text": [
      "Isi My Friends index ke-2 adalah : Diana\n",
      "Semua teman : ada 6 orang\n",
      "Anggun\n",
      "Joko\n",
      "Diana\n",
      "Vanessa\n",
      "Angel\n",
      "Lina\n"
     ]
    }
   ],
   "source": [
    "#buat list untuk menampung nama nama teman \n",
    "\n",
    "my_friends = [\"Anggun\",\"Joko\", \"Diana\",\"Vanessa\",\"Angel\",\"Lina\"]\n",
    "\n",
    "#tampilkan isi list my friends dengan indeks nomor 2\n",
    "print(\"Isi My Friends index ke-2 adalah : {}\".format(my_friends[2]))\n",
    "\n",
    "#tampilkan semua daftar teman \n",
    "print (\"Semua teman : ada {} orang\".format(len(my_friends)))\n",
    "for friend in my_friends :\n",
    "    print (friend)\n",
    "    \n",
    "    "
   ]
  },
  {
   "cell_type": "code",
   "execution_count": 21,
   "metadata": {},
   "outputs": [
    {
     "name": "stdout",
     "output_type": "stream",
     "text": [
      "jeruk\n",
      "jambu\n",
      "apel\n",
      "mangga\n",
      "durian\n",
      "manggis\n"
     ]
    }
   ],
   "source": [
    "#list mula-mula\n",
    "buah = [\"jeruk\",\"apel\",\"mangga\",\"durian\"]\n",
    "#tambahkan manggis\n",
    "buah.append(\"manggis\")\n",
    "buah.insert(1,\"jambu\")\n",
    "for buahku in buah :\n",
    "    print(buahku)"
   ]
  },
  {
   "cell_type": "code",
   "execution_count": 29,
   "metadata": {
    "scrolled": true
   },
   "outputs": [
    {
     "name": "stdout",
     "output_type": "stream",
     "text": [
      "Inputkan hobi yang ke-0 catur\n",
      "Mau isi lagi ? y/ty\n",
      "Inputkan hobi yang ke-1 makan\n",
      "Mau isi lagi ? y/ty\n",
      "Inputkan hobi yang ke-2 makan\n",
      "Mau isi lagi ? y/tt\n",
      "====================\n",
      "Kamu memiliki 3 hobi\n",
      "- catur\n",
      "- makan\n",
      "- makan\n"
     ]
    }
   ],
   "source": [
    "#membuat list kosong untuk menampung hobi \n",
    "hobi = []\n",
    "stop = False\n",
    "i=0\n",
    "\n",
    "#mengisi hobi\n",
    "while(not stop):\n",
    "    hobi_baru = input(\"Inputkan hobi yang ke-{} \".format(i))\n",
    "    hobi.append(hobi_baru)\n",
    "    #increment i\n",
    "    i+=1\n",
    "    tanya = input(\"Mau isi lagi ? y/t\")\n",
    "    if(tanya==\"t\"):\n",
    "        stop=True\n",
    "    \n",
    "#cetak semua hobi \n",
    "print(\"=\"*20)\n",
    "print(\"Kamu memiliki {} hobi\".format(len(hobi)))\n",
    "for hb in hobi:\n",
    "    print(\"- {}\".format(hb))\n",
    "\n",
    "    "
   ]
  },
  {
   "cell_type": "code",
   "execution_count": 32,
   "metadata": {},
   "outputs": [
    {
     "name": "stdout",
     "output_type": "stream",
     "text": [
      "Belajar Python\n",
      "Belajar vb.net\n",
      "Belajar Java\n",
      "Belajar C#\n",
      "Belajar PHP\n",
      "Belajar Python\n",
      "Belajar vb.net\n",
      "Belajar PHP\n"
     ]
    }
   ],
   "source": [
    "#membuat list awal\n",
    "todo_list = [\n",
    "    \"Belajar Python\",\n",
    "    \"Belajar vb.net\",\n",
    "    \"Belajar Java\",\n",
    "    \"Belajar C#\",\n",
    "    \"Belajar PHP\"\n",
    "]\n",
    "#cetak isi list awal\n",
    "for isi in todo_list:\n",
    "    print(isi)\n",
    "\n",
    "#misalkan kita ingin hapus belajar java\n",
    "#yang berada di indeks ke 2\n",
    "del todo_list[2]\n",
    "todo_list.remove(\"Belajar C#\")\n",
    "#cetak isi yang terbaru\n",
    "for isi in todo_list:\n",
    "    print(isi)\n"
   ]
  },
  {
   "cell_type": "code",
   "execution_count": 33,
   "metadata": {},
   "outputs": [
    {
     "name": "stdout",
     "output_type": "stream",
     "text": [
      "['a', 'b', 'c', 'e', 'f', 'g']\n"
     ]
    }
   ],
   "source": [
    "a = [\"a\",\"b\",\"c\",\"d\",\"e\",\"f\",\"g\"]\n",
    "a.remove(\"d\")\n",
    "\n",
    "print(a)"
   ]
  },
  {
   "cell_type": "code",
   "execution_count": 35,
   "metadata": {},
   "outputs": [
    {
     "name": "stdout",
     "output_type": "stream",
     "text": [
      "['b', 'c', 'd', 'e']\n"
     ]
    }
   ],
   "source": [
    "a = [\"a\",\"b\",\"c\",\"d\",\"e\",\"f\",\"g\"]\n",
    "#kita pengen potong indeks dari 1 sampai indeks ke 5\n",
    "print(a[1:5])\n"
   ]
  },
  {
   "cell_type": "code",
   "execution_count": 36,
   "metadata": {},
   "outputs": [
    {
     "name": "stdout",
     "output_type": "stream",
     "text": [
      "['C++', 'C#', 'python', 'java', 'php']\n"
     ]
    }
   ],
   "source": [
    "list_bahasa = [\n",
    "    \"C++\",\n",
    "    \"C#\"\n",
    "]\n",
    "list_favorit = [\n",
    "    \"python\",\n",
    "    \"java\",\n",
    "    \"php\"\n",
    "]\n",
    "semua_list = list_bahasa+list_favorit \n",
    "print(semua_list)"
   ]
  },
  {
   "cell_type": "code",
   "execution_count": 39,
   "metadata": {},
   "outputs": [
    {
     "name": "stdout",
     "output_type": "stream",
     "text": [
      "['makan', 'tidur', 'game', 'makan', 'tidur', 'game', 'makan', 'tidur', 'game', 'makan', 'tidur', 'game', 'makan', 'tidur', 'game']\n"
     ]
    }
   ],
   "source": [
    "list_favorit = [\n",
    "   \"makan\",\n",
    "    \"tidur\",\n",
    "    \"game\"\n",
    "]\n",
    "ulangi =5 \n",
    "\n",
    "aktivitas_sekarang = list_favorit * ulangi\n",
    "print(aktivitas_sekarang)"
   ]
  },
  {
   "cell_type": "code",
   "execution_count": 40,
   "metadata": {},
   "outputs": [
    {
     "name": "stdout",
     "output_type": "stream",
     "text": [
      "Es Kopi\n"
     ]
    }
   ],
   "source": [
    "list_minuman = [\n",
    "    [\"Kopi\",\"Susu\",\"Teh\"],\n",
    "    [\"Jus Apel\",\"Jus Melon\",\"Jus Jeruk\"],\n",
    "    [\"Es Kopi\",\"Es Campur\",\"Es Teler\"]\n",
    "]\n",
    "#akses multi dimensi\n",
    "#akses es kopi\n",
    "\n",
    "print(list_minuman[2][0])\n",
    "\n",
    "#akses Jus apel\n",
    "print(list_minuman[])"
   ]
  },
  {
   "cell_type": "code",
   "execution_count": null,
   "metadata": {},
   "outputs": [],
   "source": []
  }
 ],
 "metadata": {
  "kernelspec": {
   "display_name": "Python 3",
   "language": "python",
   "name": "python3"
  },
  "language_info": {
   "codemirror_mode": {
    "name": "ipython",
    "version": 3
   },
   "file_extension": ".py",
   "mimetype": "text/x-python",
   "name": "python",
   "nbconvert_exporter": "python",
   "pygments_lexer": "ipython3",
   "version": "3.8.5"
  }
 },
 "nbformat": 4,
 "nbformat_minor": 4
}

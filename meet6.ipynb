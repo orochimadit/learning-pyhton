{
 "cells": [
  {
   "cell_type": "code",
   "execution_count": 1,
   "metadata": {},
   "outputs": [
    {
     "name": "stdout",
     "output_type": "stream",
     "text": [
      "Apakah kamu lulus? [ya/tidak]tidak\n",
      "maka kamu harus ikut ujian\n"
     ]
    }
   ],
   "source": [
    "lulus = input(\"Apakah kamu lulus? [ya/tidak]\")\n",
    "\n",
    "if lulus==\"tidak\" :\n",
    "    print(\"maka kamu harus ikut ujian\")"
   ]
  },
  {
   "cell_type": "code",
   "execution_count": 3,
   "metadata": {
    "scrolled": true
   },
   "outputs": [
    {
     "name": "stdout",
     "output_type": "stream",
     "text": [
      "Total belanja : Rp.130000\n",
      "anda dapat diskon 5%\n",
      "anda dapat bonus minuman dingin\n",
      "total yang harus di bayar Rp: 123500.0 \n",
      "terimakasih telah berbelanja\n",
      "jangan lupa datang lagi\n"
     ]
    }
   ],
   "source": [
    "total_belanja = input(\"Total belanja : Rp.\")\n",
    "bayar = total_belanja\n",
    "\n",
    "if int(total_belanja)>100000 :\n",
    "    print(\"anda dapat diskon 5%\")\n",
    "    print(\"anda dapat bonus minuman dingin\")\n",
    "    \n",
    "    diskon = int(total_belanja)*5/100\n",
    "    bayar = int(total_belanja)-diskon\n",
    "    \n",
    "#total \n",
    "print(\"total yang harus di bayar Rp: %s \"%bayar )\n",
    "print(\"terimakasih telah berbelanja\")\n",
    "print(\"jangan lupa datang lagi\")"
   ]
  },
  {
   "cell_type": "code",
   "execution_count": 6,
   "metadata": {},
   "outputs": [
    {
     "name": "stdout",
     "output_type": "stream",
     "text": [
      "input umur anda 19\n",
      "boleh membuat sim\n"
     ]
    }
   ],
   "source": [
    "umur = input(\"input umur anda \")\n",
    "\n",
    "if int(umur)>18 :\n",
    "    print(\"boleh membuat sim\")\n",
    "else :\n",
    "    print(\"anda masih bocil\")"
   ]
  },
  {
   "cell_type": "code",
   "execution_count": 12,
   "metadata": {},
   "outputs": [
    {
     "name": "stdout",
     "output_type": "stream",
     "text": [
      "masukkan nilai anda 78\n",
      "Grade B\n"
     ]
    }
   ],
   "source": [
    "nilai = input(\"masukkan nilai anda \")\n",
    "\n",
    "if int(nilai)>=80 :\n",
    "    print(\"grade A\")\n",
    "elif int(nilai) >=70 :\n",
    "    print(\"Grade B\")\n",
    "elif int(nilai) >=60 :\n",
    "    print(\"Grade C\")\n",
    "elif int(nilai)>=50 :\n",
    "    print(\"Grade D\")\n",
    "else :\n",
    "    print(\"Grade E\")"
   ]
  },
  {
   "cell_type": "code",
   "execution_count": null,
   "metadata": {},
   "outputs": [],
   "source": []
  }
 ],
 "metadata": {
  "kernelspec": {
   "display_name": "Python 3",
   "language": "python",
   "name": "python3"
  },
  "language_info": {
   "codemirror_mode": {
    "name": "ipython",
    "version": 3
   },
   "file_extension": ".py",
   "mimetype": "text/x-python",
   "name": "python",
   "nbconvert_exporter": "python",
   "pygments_lexer": "ipython3",
   "version": "3.8.5"
  }
 },
 "nbformat": 4,
 "nbformat_minor": 4
}
